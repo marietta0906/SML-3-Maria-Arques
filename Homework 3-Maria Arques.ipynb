{
 "cells": [
  {
   "cell_type": "code",
   "execution_count": null,
   "id": "4ff8bf8b",
   "metadata": {},
   "outputs": [],
   "source": [
    "#Exercise 3 (p.198, Chap.5), 8 (p.200, Chap.5), 1 (p.259, Chap.6), 9 (p.263, Chap.6), 9 (p.299, Chap.7) and 10 (p.300, Chap.7)"
   ]
  },
  {
   "cell_type": "markdown",
   "id": "734acede",
   "metadata": {},
   "source": [
    "# Excercise 3- Chapter 5"
   ]
  },
  {
   "cell_type": "code",
   "execution_count": 2,
   "id": "1f12f046",
   "metadata": {},
   "outputs": [],
   "source": [
    "# (a) Explain how k-fold cross-validation is implemented."
   ]
  },
  {
   "cell_type": "code",
   "execution_count": 1,
   "id": "d50ec302",
   "metadata": {},
   "outputs": [],
   "source": [
    "# 1-Random divide the set of observations into K groups.\n",
    "# 2-The first \"group\" is considered as a validation set. The remaining groups are used for training the data.\n",
    "# 3- We fit the model on the training set and we evaluate it on the test.\n",
    "# 4-MSE is computed on the observations\n",
    "# 5- We repeat the procedure K times, for each of the group of step 1. "
   ]
  },
  {
   "cell_type": "code",
   "execution_count": null,
   "id": "0759bcf4",
   "metadata": {},
   "outputs": [],
   "source": [
    "# (b) What are the advantages and disadvantages of k-fold cross validation relative to:\n",
    "     # The validation set approach?\n",
    "# advantages: k-fold criss validation uses all the observations to fit the model, in contrary, the validation doesn't use the totality.\n",
    "# disadvantages: k-fold cross validation is more difficult to implement and as a concept is more difficult to understand.\n",
    "\n",
    "    # LOOCV?\n",
    "# advantages: less computational effort needed for the k-fold cross validation.\n",
    "# disadvantages: k-fold cross validation has more bias than the LOOCV.\n",
    "\n"
   ]
  },
  {
   "cell_type": "markdown",
   "id": "65e8bb70",
   "metadata": {},
   "source": [
    "# Excercise 8- Chapter 5"
   ]
  },
  {
   "cell_type": "code",
   "execution_count": 29,
   "id": "d1979197",
   "metadata": {},
   "outputs": [],
   "source": [
    "# We will now perform cross-validation on a simulated data set.\n",
    "\n",
    "    #(a) Generate a simulated data set as follows:\n",
    "set.seed(1)\n",
    "x=rnorm(100)\n",
    "y=x-2*x^2+rnorm (100)\n",
    "\n",
    "data_frame<-data.frame(x,y)\n",
    "\n",
    "#in this case, n=100 and p=2\n",
    "#model: Y=X−2X2+ε.\n",
    "\n"
   ]
  },
  {
   "cell_type": "code",
   "execution_count": 30,
   "id": "c8500f3c",
   "metadata": {},
   "outputs": [
    {
     "data": {
      "image/png": "[encoded data removed]",
      "text/plain": [
       "plot without title"
      ]
     },
     "metadata": {},
     "output_type": "display_data"
    }
   ],
   "source": [
    "# (b) Create a scatterplot of X against Y . Comment on what you find\n",
    "plot(x, y)\n",
    "\n",
    "#There is a curved relationship"
   ]
  },
  {
   "cell_type": "code",
   "execution_count": 35,
   "id": "d4fa7980",
   "metadata": {},
   "outputs": [
    {
     "data": {
      "text/html": [
       "7.28816160667281"
      ],
      "text/latex": [
       "7.28816160667281"
      ],
      "text/markdown": [
       "7.28816160667281"
      ],
      "text/plain": [
       "[1] 7.288162"
      ]
     },
     "metadata": {},
     "output_type": "display_data"
    }
   ],
   "source": [
    "# (c) Set a random seed, and then compute the LOOCV errors that result from fitting the following four models using least squares\n",
    "\n",
    "   # Y=β0+β1X+ε\n",
    "\n",
    "library(boot)\n",
    "set.seed(1)\n",
    "\n",
    "glm.fit=glm(y ~ x, data=data_frame)\n",
    "cv.glm(data_frame,glm.fit)$delta[1]\n"
   ]
  },
  {
   "cell_type": "code",
   "execution_count": 36,
   "id": "92037d57",
   "metadata": {},
   "outputs": [
    {
     "data": {
      "text/html": [
       "0.937423637615552"
      ],
      "text/latex": [
       "0.937423637615552"
      ],
      "text/markdown": [
       "0.937423637615552"
      ],
      "text/plain": [
       "[1] 0.9374236"
      ]
     },
     "metadata": {},
     "output_type": "display_data"
    }
   ],
   "source": [
    "# Y=β0+β1X+β2X2+ε\n",
    "glm.fit1=glm(y ~ poly(x, 2))\n",
    "cv.glm(data_frame,glm.fit1)$delta[1]\n"
   ]
  },
  {
   "cell_type": "code",
   "execution_count": 37,
   "id": "f4e820c7",
   "metadata": {},
   "outputs": [
    {
     "data": {
      "text/html": [
       "0.956621830108939"
      ],
      "text/latex": [
       "0.956621830108939"
      ],
      "text/markdown": [
       "0.956621830108939"
      ],
      "text/plain": [
       "[1] 0.9566218"
      ]
     },
     "metadata": {},
     "output_type": "display_data"
    }
   ],
   "source": [
    "#Y=β0+β1X+β2X2+β3X3+ε \n",
    "glm.fit2=glm(y ~ poly(x, 3))\n",
    "cv.glm(data_frame,glm.fit2)$delta[1]\n"
   ]
  },
  {
   "cell_type": "code",
   "execution_count": 39,
   "id": "c46bc877",
   "metadata": {},
   "outputs": [
    {
     "data": {
      "text/html": [
       "0.953904892744804"
      ],
      "text/latex": [
       "0.953904892744804"
      ],
      "text/markdown": [
       "0.953904892744804"
      ],
      "text/plain": [
       "[1] 0.9539049"
      ]
     },
     "metadata": {},
     "output_type": "display_data"
    }
   ],
   "source": [
    "#Y=β0+β1X+β2X2+β3X3+β4X4+ε\n",
    "glm.fit3=glm(y ~ poly(x, 4))\n",
    "cv.glm(data_frame,glm.fit3)$delta[1]\n",
    "\n"
   ]
  },
  {
   "cell_type": "code",
   "execution_count": 40,
   "id": "6e7cf50a",
   "metadata": {},
   "outputs": [
    {
     "data": {
      "text/html": [
       "7.28816160667281"
      ],
      "text/latex": [
       "7.28816160667281"
      ],
      "text/markdown": [
       "7.28816160667281"
      ],
      "text/plain": [
       "[1] 7.288162"
      ]
     },
     "metadata": {},
     "output_type": "display_data"
    }
   ],
   "source": [
    "# (d) Repeat (c) using another random seed, and report your results. Are your results the same as what you got in (c)? Why?\n",
    "\n",
    "# Y=β0+β1X+ε\n",
    "set.seed(123)\n",
    "\n",
    "glm.fit4=glm(y ~ x, data=data_frame)\n",
    "cv.glm(data_frame,glm.fit4)$delta[1]"
   ]
  },
  {
   "cell_type": "code",
   "execution_count": 41,
   "id": "9a34c98f",
   "metadata": {},
   "outputs": [
    {
     "data": {
      "text/html": [
       "0.937423637615552"
      ],
      "text/latex": [
       "0.937423637615552"
      ],
      "text/markdown": [
       "0.937423637615552"
      ],
      "text/plain": [
       "[1] 0.9374236"
      ]
     },
     "metadata": {},
     "output_type": "display_data"
    }
   ],
   "source": [
    "# Y=β0+β1X+β2X2+ε\n",
    "glm.fit5=glm(y ~ poly(x, 2))\n",
    "cv.glm(data_frame,glm.fit5)$delta[1]\n"
   ]
  },
  {
   "cell_type": "code",
   "execution_count": 42,
   "id": "e5e46f6a",
   "metadata": {},
   "outputs": [
    {
     "data": {
      "text/html": [
       "0.956621830108939"
      ],
      "text/latex": [
       "0.956621830108939"
      ],
      "text/markdown": [
       "0.956621830108939"
      ],
      "text/plain": [
       "[1] 0.9566218"
      ]
     },
     "metadata": {},
     "output_type": "display_data"
    }
   ],
   "source": [
    "#Y=β0+β1X+β2X2+β3X3+ε \n",
    "glm.fit6=glm(y ~ poly(x, 3))\n",
    "cv.glm(data_frame,glm.fit6)$delta[1]"
   ]
  },
  {
   "cell_type": "code",
   "execution_count": 43,
   "id": "8d708572",
   "metadata": {},
   "outputs": [
    {
     "data": {
      "text/html": [
       "0.953904892744804"
      ],
      "text/latex": [
       "0.953904892744804"
      ],
      "text/markdown": [
       "0.953904892744804"
      ],
      "text/plain": [
       "[1] 0.9539049"
      ]
     },
     "metadata": {},
     "output_type": "display_data"
    }
   ],
   "source": [
    "#Y=β0+β1X+β2X2+β3X3+β4X4+ε\n",
    "glm.fit7=glm(y ~ poly(x, 4))\n",
    "cv.glm(data_frame,glm.fit7)$delta[1]\n",
    "\n"
   ]
  },
  {
   "cell_type": "code",
   "execution_count": null,
   "id": "69eee000",
   "metadata": {},
   "outputs": [],
   "source": [
    "#the results are the same as in part c"
   ]
  },
  {
   "cell_type": "code",
   "execution_count": 44,
   "id": "6574b648",
   "metadata": {},
   "outputs": [],
   "source": [
    "# (e) Which of the models in (c) had the smallest LOOCV error? Is this what you expected? Explain your answer\n",
    "#the lowest result is the one of the quadratic relation between x and y"
   ]
  },
  {
   "cell_type": "code",
   "execution_count": 45,
   "id": "de1581e0",
   "metadata": {},
   "outputs": [
    {
     "data": {
      "text/plain": [
       "\n",
       "Call:\n",
       "glm(formula = y ~ poly(x, 4))\n",
       "\n",
       "Deviance Residuals: \n",
       "    Min       1Q   Median       3Q      Max  \n",
       "-2.0550  -0.6212  -0.1567   0.5952   2.2267  \n",
       "\n",
       "Coefficients:\n",
       "             Estimate Std. Error t value Pr(>|t|)    \n",
       "(Intercept)  -1.55002    0.09591 -16.162  < 2e-16 ***\n",
       "poly(x, 4)1   6.18883    0.95905   6.453 4.59e-09 ***\n",
       "poly(x, 4)2 -23.94830    0.95905 -24.971  < 2e-16 ***\n",
       "poly(x, 4)3   0.26411    0.95905   0.275    0.784    \n",
       "poly(x, 4)4   1.25710    0.95905   1.311    0.193    \n",
       "---\n",
       "Signif. codes:  0 '***' 0.001 '**' 0.01 '*' 0.05 '.' 0.1 ' ' 1\n",
       "\n",
       "(Dispersion parameter for gaussian family taken to be 0.9197797)\n",
       "\n",
       "    Null deviance: 700.852  on 99  degrees of freedom\n",
       "Residual deviance:  87.379  on 95  degrees of freedom\n",
       "AIC: 282.3\n",
       "\n",
       "Number of Fisher Scoring iterations: 2\n"
      ]
     },
     "metadata": {},
     "output_type": "display_data"
    }
   ],
   "source": [
    "# (f) Comment on the statistical significance of the coefficient estimates that results from fitting each of the models in (c) using least squares. Do these results agree with the conclusions drawn based on the cross-validation results?\n",
    "\n",
    "summary(glm.fit3)"
   ]
  },
  {
   "cell_type": "markdown",
   "id": "3fd452ee",
   "metadata": {},
   "source": [
    "# Excercise 1-chapter 6\n"
   ]
  },
  {
   "cell_type": "code",
   "execution_count": 46,
   "id": "f1bd85a1",
   "metadata": {},
   "outputs": [],
   "source": [
    "# We perform best subset, forward stepwise, and backward stepwise selection on a single data set. For each approach, we obtain p+1 models, containing 0,1,2,…,p predictors. Explain your answers:"
   ]
  },
  {
   "cell_type": "code",
   "execution_count": 47,
   "id": "b8dfed03",
   "metadata": {},
   "outputs": [],
   "source": [
    "# (a) Which of the three models with k predictors has the smallest training RSS? \n",
    "#The model having the smallest training RSS is the best subset selection as it considers every model with k predictrors. "
   ]
  },
  {
   "cell_type": "code",
   "execution_count": 48,
   "id": "f5800ad0",
   "metadata": {},
   "outputs": [],
   "source": [
    "# (b) Which of the three models with k predictors has the smallest test RSS? \n",
    "#Impossible to know with this few information\n"
   ]
  },
  {
   "cell_type": "code",
   "execution_count": 49,
   "id": "02f63c81",
   "metadata": {},
   "outputs": [],
   "source": [
    "# (c) True or False:\n",
    "# i) TRUE\n",
    "# ii) TRUE\n",
    "# iii) FALSE\n",
    "# iv) FALSE\n",
    "# v) FALSE"
   ]
  },
  {
   "cell_type": "markdown",
   "id": "f870ef96",
   "metadata": {},
   "source": [
    "# Excercise 9-chapter 6\n"
   ]
  },
  {
   "cell_type": "code",
   "execution_count": 56,
   "id": "4755d9e1",
   "metadata": {},
   "outputs": [
    {
     "data": {
      "text/html": [
       "<table>\n",
       "<thead><tr><th></th><th scope=col>Private</th><th scope=col>Apps</th><th scope=col>Accept</th><th scope=col>Enroll</th><th scope=col>Top10perc</th><th scope=col>Top25perc</th><th scope=col>F.Undergrad</th><th scope=col>P.Undergrad</th><th scope=col>Outstate</th><th scope=col>Room.Board</th><th scope=col>Books</th><th scope=col>Personal</th><th scope=col>PhD</th><th scope=col>Terminal</th><th scope=col>S.F.Ratio</th><th scope=col>perc.alumni</th><th scope=col>Expend</th><th scope=col>Grad.Rate</th></tr></thead>\n",
       "<tbody>\n",
       "\t<tr><th scope=row>Abilene Christian University</th><td>Yes  </td><td>1660 </td><td>1232 </td><td>721  </td><td>23   </td><td>52   </td><td>2885 </td><td> 537 </td><td> 7440</td><td>3300 </td><td>450  </td><td>2200 </td><td>70   </td><td>78   </td><td>18.1 </td><td>12   </td><td> 7041</td><td>60   </td></tr>\n",
       "\t<tr><th scope=row>Adelphi University</th><td>Yes  </td><td>2186 </td><td>1924 </td><td>512  </td><td>16   </td><td>29   </td><td>2683 </td><td>1227 </td><td>12280</td><td>6450 </td><td>750  </td><td>1500 </td><td>29   </td><td>30   </td><td>12.2 </td><td>16   </td><td>10527</td><td>56   </td></tr>\n",
       "\t<tr><th scope=row>Adrian College</th><td>Yes  </td><td>1428 </td><td>1097 </td><td>336  </td><td>22   </td><td>50   </td><td>1036 </td><td>  99 </td><td>11250</td><td>3750 </td><td>400  </td><td>1165 </td><td>53   </td><td>66   </td><td>12.9 </td><td>30   </td><td> 8735</td><td>54   </td></tr>\n",
       "\t<tr><th scope=row>Agnes Scott College</th><td>Yes  </td><td> 417 </td><td> 349 </td><td>137  </td><td>60   </td><td>89   </td><td> 510 </td><td>  63 </td><td>12960</td><td>5450 </td><td>450  </td><td> 875 </td><td>92   </td><td>97   </td><td> 7.7 </td><td>37   </td><td>19016</td><td>59   </td></tr>\n",
       "\t<tr><th scope=row>Alaska Pacific University</th><td>Yes  </td><td> 193 </td><td> 146 </td><td> 55  </td><td>16   </td><td>44   </td><td> 249 </td><td> 869 </td><td> 7560</td><td>4120 </td><td>800  </td><td>1500 </td><td>76   </td><td>72   </td><td>11.9 </td><td> 2   </td><td>10922</td><td>15   </td></tr>\n",
       "\t<tr><th scope=row>Albertson College</th><td>Yes  </td><td> 587 </td><td> 479 </td><td>158  </td><td>38   </td><td>62   </td><td> 678 </td><td>  41 </td><td>13500</td><td>3335 </td><td>500  </td><td> 675 </td><td>67   </td><td>73   </td><td> 9.4 </td><td>11   </td><td> 9727</td><td>55   </td></tr>\n",
       "</tbody>\n",
       "</table>\n"
      ],
      "text/latex": [
       "\\begin{tabular}{r|llllllllllllllllll}\n",
       "  & Private & Apps & Accept & Enroll & Top10perc & Top25perc & F.Undergrad & P.Undergrad & Outstate & Room.Board & Books & Personal & PhD & Terminal & S.F.Ratio & perc.alumni & Expend & Grad.Rate\\\\\n",
       "\\hline\n",
       "\tAbilene Christian University & Yes   & 1660  & 1232  & 721   & 23    & 52    & 2885  &  537  &  7440 & 3300  & 450   & 2200  & 70    & 78    & 18.1  & 12    &  7041 & 60   \\\\\n",
       "\tAdelphi University & Yes   & 2186  & 1924  & 512   & 16    & 29    & 2683  & 1227  & 12280 & 6450  & 750   & 1500  & 29    & 30    & 12.2  & 16    & 10527 & 56   \\\\\n",
       "\tAdrian College & Yes   & 1428  & 1097  & 336   & 22    & 50    & 1036  &   99  & 11250 & 3750  & 400   & 1165  & 53    & 66    & 12.9  & 30    &  8735 & 54   \\\\\n",
       "\tAgnes Scott College & Yes   &  417  &  349  & 137   & 60    & 89    &  510  &   63  & 12960 & 5450  & 450   &  875  & 92    & 97    &  7.7  & 37    & 19016 & 59   \\\\\n",
       "\tAlaska Pacific University & Yes   &  193  &  146  &  55   & 16    & 44    &  249  &  869  &  7560 & 4120  & 800   & 1500  & 76    & 72    & 11.9  &  2    & 10922 & 15   \\\\\n",
       "\tAlbertson College & Yes   &  587  &  479  & 158   & 38    & 62    &  678  &   41  & 13500 & 3335  & 500   &  675  & 67    & 73    &  9.4  & 11    &  9727 & 55   \\\\\n",
       "\\end{tabular}\n"
      ],
      "text/markdown": [
       "\n",
       "| <!--/--> | Private | Apps | Accept | Enroll | Top10perc | Top25perc | F.Undergrad | P.Undergrad | Outstate | Room.Board | Books | Personal | PhD | Terminal | S.F.Ratio | perc.alumni | Expend | Grad.Rate |\n",
       "|---|---|---|---|---|---|---|---|---|---|---|---|---|---|---|---|---|---|---|\n",
       "| Abilene Christian University | Yes   | 1660  | 1232  | 721   | 23    | 52    | 2885  |  537  |  7440 | 3300  | 450   | 2200  | 70    | 78    | 18.1  | 12    |  7041 | 60    |\n",
       "| Adelphi University | Yes   | 2186  | 1924  | 512   | 16    | 29    | 2683  | 1227  | 12280 | 6450  | 750   | 1500  | 29    | 30    | 12.2  | 16    | 10527 | 56    |\n",
       "| Adrian College | Yes   | 1428  | 1097  | 336   | 22    | 50    | 1036  |   99  | 11250 | 3750  | 400   | 1165  | 53    | 66    | 12.9  | 30    |  8735 | 54    |\n",
       "| Agnes Scott College | Yes   |  417  |  349  | 137   | 60    | 89    |  510  |   63  | 12960 | 5450  | 450   |  875  | 92    | 97    |  7.7  | 37    | 19016 | 59    |\n",
       "| Alaska Pacific University | Yes   |  193  |  146  |  55   | 16    | 44    |  249  |  869  |  7560 | 4120  | 800   | 1500  | 76    | 72    | 11.9  |  2    | 10922 | 15    |\n",
       "| Albertson College | Yes   |  587  |  479  | 158   | 38    | 62    |  678  |   41  | 13500 | 3335  | 500   |  675  | 67    | 73    |  9.4  | 11    |  9727 | 55    |\n",
       "\n"
      ],
      "text/plain": [
       "                             Private Apps Accept Enroll Top10perc Top25perc\n",
       "Abilene Christian University Yes     1660 1232   721    23        52       \n",
       "Adelphi University           Yes     2186 1924   512    16        29       \n",
       "Adrian College               Yes     1428 1097   336    22        50       \n",
       "Agnes Scott College          Yes      417  349   137    60        89       \n",
       "Alaska Pacific University    Yes      193  146    55    16        44       \n",
       "Albertson College            Yes      587  479   158    38        62       \n",
       "                             F.Undergrad P.Undergrad Outstate Room.Board Books\n",
       "Abilene Christian University 2885         537         7440    3300       450  \n",
       "Adelphi University           2683        1227        12280    6450       750  \n",
       "Adrian College               1036          99        11250    3750       400  \n",
       "Agnes Scott College           510          63        12960    5450       450  \n",
       "Alaska Pacific University     249         869         7560    4120       800  \n",
       "Albertson College             678          41        13500    3335       500  \n",
       "                             Personal PhD Terminal S.F.Ratio perc.alumni Expend\n",
       "Abilene Christian University 2200     70  78       18.1      12           7041 \n",
       "Adelphi University           1500     29  30       12.2      16          10527 \n",
       "Adrian College               1165     53  66       12.9      30           8735 \n",
       "Agnes Scott College           875     92  97        7.7      37          19016 \n",
       "Alaska Pacific University    1500     76  72       11.9       2          10922 \n",
       "Albertson College             675     67  73        9.4      11           9727 \n",
       "                             Grad.Rate\n",
       "Abilene Christian University 60       \n",
       "Adelphi University           56       \n",
       "Adrian College               54       \n",
       "Agnes Scott College          59       \n",
       "Alaska Pacific University    15       \n",
       "Albertson College            55       "
      ]
     },
     "metadata": {},
     "output_type": "display_data"
    }
   ],
   "source": [
    "# In this excercise, we will predict the number of applications received using the other variables in the College data set.\n",
    "# (a) Split the data set into a training set and a test set.\n",
    "\n",
    "library(ISLR)\n",
    "data(College)\n",
    "set.seed(1)\n",
    "\n",
    "head(College)\n",
    "\n",
    "\n",
    "#i used the same way of splitting the data as in the book, page 248\n",
    "set.seed(1)\n",
    "train=sample(c(TRUE,FALSE), nrow(College), rep=TRUE)\n",
    "test=(!train)\n",
    "\n",
    "\n",
    "train_part= College[train,]\n",
    "test_part = College[test,]"
   ]
  },
  {
   "cell_type": "code",
   "execution_count": 65,
   "id": "b06f41f6",
   "metadata": {},
   "outputs": [
    {
     "data": {
      "text/html": [
       "984743.080937378"
      ],
      "text/latex": [
       "984743.080937378"
      ],
      "text/markdown": [
       "984743.080937378"
      ],
      "text/plain": [
       "[1] 984743.1"
      ]
     },
     "metadata": {},
     "output_type": "display_data"
    }
   ],
   "source": [
    "# (b) Fit a linear model using least squares on the training set, and report the test error obtained.\n",
    "\n",
    "fit_linearmodel = lm(Apps~., train_part)\n",
    "pred_linearmodel = predict(fit_linearmodel, test_part)\n",
    "\n",
    "err_linearmodel = mean((test_part$Apps - pred_linearmodel)^2)\n",
    "err_linearmodel"
   ]
  },
  {
   "cell_type": "code",
   "execution_count": 71,
   "id": "73f5771a",
   "metadata": {},
   "outputs": [
    {
     "name": "stderr",
     "output_type": "stream",
     "text": [
      "Your code contains a unicode char which cannot be displayed in your\n",
      "current locale and R will silently convert it to an escaped form when the\n",
      "R kernel executes this code. This can lead to subtle errors if you use\n",
      "such chars to do comparisons. For more information, please see\n",
      "https://github.com/IRkernel/repr/wiki/Problems-with-unicode-on-windows"
     ]
    },
    {
     "data": {
      "text/html": [
       "1069260.74360719"
      ],
      "text/latex": [
       "1069260.74360719"
      ],
      "text/markdown": [
       "1069260.74360719"
      ],
      "text/plain": [
       "[1] 1069261"
      ]
     },
     "metadata": {},
     "output_type": "display_data"
    }
   ],
   "source": [
    "# (c) Fit a ridge regression model on the training set, with λ chosenby cross-validation. Report the test error obtained.\n",
    "\n",
    "library(glmnet)\n",
    "\n",
    "\n",
    "#Create the train.x and train.y matrices with dummy encoding as there is a categorical variable in the dataset\n",
    "\n",
    "train.Y = train_part[, \"Apps\"]\n",
    "test.X = model.matrix(Apps ~ ., data = test_part)\n",
    "test.Y = test_part[, \"Apps\"]\n",
    "\n",
    "grid = 10 ^ seq(4, -2, length=100)\n",
    "ridge.mod = glmnet(train.X, train.Y, alpha =0, lambda=grid, thresh = 1e-12)\n",
    "lambda.best = ridge.mod$lambda.min\n",
    "ridge.pred = predict(ridge.mod, newx= test.X, s=lambda.best)\n",
    "(ridge.err = mean((test.Y - ridge.pred)^2))\n"
   ]
  },
  {
   "cell_type": "code",
   "execution_count": 72,
   "id": "992df9c4",
   "metadata": {},
   "outputs": [
    {
     "name": "stderr",
     "output_type": "stream",
     "text": [
      "Your code contains a unicode char which cannot be displayed in your\n",
      "current locale and R will silently convert it to an escaped form when the\n",
      "R kernel executes this code. This can lead to subtle errors if you use\n",
      "such chars to do comparisons. For more information, please see\n",
      "https://github.com/IRkernel/repr/wiki/Problems-with-unicode-on-windows"
     ]
    },
    {
     "data": {
      "text/html": [
       "992532.502090293"
      ],
      "text/latex": [
       "992532.502090293"
      ],
      "text/markdown": [
       "992532.502090293"
      ],
      "text/plain": [
       "[1] 992532.5"
      ]
     },
     "metadata": {},
     "output_type": "display_data"
    }
   ],
   "source": [
    "# (d) Fit a lasso model on the training set, with λ chosen by crossvalidation. Report the test error obtained, along with the number of non-zero coefficient estimates.\n",
    "lasso.mod = glmnet(train.X, train.Y, alpha =1, lambda=grid, thresh = 1e-12)\n",
    "lasso.cv = cv.glmnet(train.X, train.Y, alpha =1, lambda=grid, thresh = 1e-12)\n",
    "lambda.best = lasso.cv$lambda.min\n",
    "lasso.pred = predict(lasso.mod, newx= test.X, s=lambda.best)\n",
    "(lasso.err = mean((test.Y - lasso.pred)^2))\n",
    "\n"
   ]
  },
  {
   "cell_type": "code",
   "execution_count": 74,
   "id": "d532b85f",
   "metadata": {},
   "outputs": [
    {
     "ename": "ERROR",
     "evalue": "Error in library(pls): there is no package called 'pls'\n",
     "output_type": "error",
     "traceback": [
      "Error in library(pls): there is no package called 'pls'\nTraceback:\n",
      "1. library(pls)"
     ]
    }
   ],
   "source": [
    "# (e) Fit a PCR model on the training set, with M chosen by cross-validation. Report the test error obtained, along with the value of M selected by cross-validation.\n",
    "\n",
    "library(pls)\n",
    "pcr.fit = pcr(Apps~., data=train, scale=TRUE, validation=\"CV\")\n",
    "validationplot(pcr.fit, val.type=\"MSEP\")"
   ]
  },
  {
   "cell_type": "markdown",
   "id": "ef2b027e",
   "metadata": {},
   "source": [
    "# Excercise 9 chapter 7"
   ]
  },
  {
   "cell_type": "code",
   "execution_count": 81,
   "id": "dbf9ec6d",
   "metadata": {},
   "outputs": [
    {
     "data": {
      "text/html": [
       "<table>\n",
       "<thead><tr><th></th><th scope=col>Estimate</th><th scope=col>Std. Error</th><th scope=col>t value</th><th scope=col>Pr(&gt;|t|)</th></tr></thead>\n",
       "<tbody>\n",
       "\t<tr><th scope=row>(Intercept)</th><td> 0.5546951   </td><td>0.00275939   </td><td>201.020894   </td><td> 0.000000e+00</td></tr>\n",
       "\t<tr><th scope=row>poly(dis, 3)1</th><td>-2.0030959   </td><td>0.06207094   </td><td>-32.271071   </td><td>1.597201e-124</td></tr>\n",
       "\t<tr><th scope=row>poly(dis, 3)2</th><td> 0.8563300   </td><td>0.06207094   </td><td> 13.795987   </td><td> 6.133104e-37</td></tr>\n",
       "\t<tr><th scope=row>poly(dis, 3)3</th><td>-0.3180490   </td><td>0.06207094   </td><td> -5.123959   </td><td> 4.274950e-07</td></tr>\n",
       "</tbody>\n",
       "</table>\n"
      ],
      "text/latex": [
       "\\begin{tabular}{r|llll}\n",
       "  & Estimate & Std. Error & t value & Pr(>\\textbar{}t\\textbar{})\\\\\n",
       "\\hline\n",
       "\t(Intercept) &  0.5546951    & 0.00275939    & 201.020894    &  0.000000e+00\\\\\n",
       "\tpoly(dis, 3)1 & -2.0030959    & 0.06207094    & -32.271071    & 1.597201e-124\\\\\n",
       "\tpoly(dis, 3)2 &  0.8563300    & 0.06207094    &  13.795987    &  6.133104e-37\\\\\n",
       "\tpoly(dis, 3)3 & -0.3180490    & 0.06207094    &  -5.123959    &  4.274950e-07\\\\\n",
       "\\end{tabular}\n"
      ],
      "text/markdown": [
       "\n",
       "| <!--/--> | Estimate | Std. Error | t value | Pr(>|t|) |\n",
       "|---|---|---|---|---|\n",
       "| (Intercept) |  0.5546951    | 0.00275939    | 201.020894    |  0.000000e+00 |\n",
       "| poly(dis, 3)1 | -2.0030959    | 0.06207094    | -32.271071    | 1.597201e-124 |\n",
       "| poly(dis, 3)2 |  0.8563300    | 0.06207094    |  13.795987    |  6.133104e-37 |\n",
       "| poly(dis, 3)3 | -0.3180490    | 0.06207094    |  -5.123959    |  4.274950e-07 |\n",
       "\n"
      ],
      "text/plain": [
       "              Estimate   Std. Error t value    Pr(>|t|)     \n",
       "(Intercept)    0.5546951 0.00275939 201.020894  0.000000e+00\n",
       "poly(dis, 3)1 -2.0030959 0.06207094 -32.271071 1.597201e-124\n",
       "poly(dis, 3)2  0.8563300 0.06207094  13.795987  6.133104e-37\n",
       "poly(dis, 3)3 -0.3180490 0.06207094  -5.123959  4.274950e-07"
      ]
     },
     "metadata": {},
     "output_type": "display_data"
    }
   ],
   "source": [
    "# (a) Use the poly() function to fit a cubic polynomial regression to predict nox using dis. Report the regression output, and plot the resulting data and polynomial fits.\n",
    "\n",
    "library(MASS)\n",
    "set.seed(1)\n",
    "fit_poly <- lm(nox ~ poly(dis, 3), data = Boston)\n",
    "coef(summary(fit_poly))\n",
    "\n"
   ]
  },
  {
   "cell_type": "code",
   "execution_count": 86,
   "id": "38ff05d2",
   "metadata": {},
   "outputs": [
    {
     "data": {
      "image/png": "[encoded data removed]",
      "text/plain": [
       "plot without title"
      ]
     },
     "metadata": {},
     "output_type": "display_data"
    }
   ],
   "source": [
    "#code from the book\n",
    "x <- range(Boston$dis)\n",
    "y <- seq(from = x[1], to = x[2], by = 0.1)\n",
    "preds <- predict(fit, list(dis = y))\n",
    "plot(nox ~ dis, data = Boston, col = \"blue\")\n",
    "lines(y, preds, lwd = 2,col = \"darkgrey\")"
   ]
  },
  {
   "cell_type": "code",
   "execution_count": 84,
   "id": "609324fa",
   "metadata": {},
   "outputs": [],
   "source": [
    "# (b) Plot the polynomial fits for a range of different polynomial degrees (say, from 1 to 10), and report the associated residual sum of squares.\n",
    "\n"
   ]
  },
  {
   "cell_type": "code",
   "execution_count": 88,
   "id": "fe74cd30",
   "metadata": {},
   "outputs": [
    {
     "data": {
      "text/plain": [
       "\n",
       "Call:\n",
       "lm(formula = nox ~ bs(dis, knots = c(4, 7, 11)), data = Boston)\n",
       "\n",
       "Residuals:\n",
       "      Min        1Q    Median        3Q       Max \n",
       "-0.124567 -0.040355 -0.008702  0.024740  0.192920 \n",
       "\n",
       "Coefficients:\n",
       "                              Estimate Std. Error t value Pr(>|t|)    \n",
       "(Intercept)                    0.73926    0.01331  55.537  < 2e-16 ***\n",
       "bs(dis, knots = c(4, 7, 11))1 -0.08861    0.02504  -3.539  0.00044 ***\n",
       "bs(dis, knots = c(4, 7, 11))2 -0.31341    0.01680 -18.658  < 2e-16 ***\n",
       "bs(dis, knots = c(4, 7, 11))3 -0.26618    0.03147  -8.459 3.00e-16 ***\n",
       "bs(dis, knots = c(4, 7, 11))4 -0.39802    0.04647  -8.565  < 2e-16 ***\n",
       "bs(dis, knots = c(4, 7, 11))5 -0.25681    0.09001  -2.853  0.00451 ** \n",
       "bs(dis, knots = c(4, 7, 11))6 -0.32926    0.06327  -5.204 2.85e-07 ***\n",
       "---\n",
       "Signif. codes:  0 '***' 0.001 '**' 0.01 '*' 0.05 '.' 0.1 ' ' 1\n",
       "\n",
       "Residual standard error: 0.06185 on 499 degrees of freedom\n",
       "Multiple R-squared:  0.7185,\tAdjusted R-squared:  0.7151 \n",
       "F-statistic: 212.3 on 6 and 499 DF,  p-value: < 2.2e-16\n"
      ]
     },
     "metadata": {},
     "output_type": "display_data"
    },
    {
     "data": {
      "image/png": "[encoded data removed]",
      "text/plain": [
       "plot without title"
      ]
     },
     "metadata": {},
     "output_type": "display_data"
    }
   ],
   "source": [
    "#code from the book\n",
    "\n",
    "#(d) Use the “bs()” function to fit a regression spline to predict “nox” using “dis”. Report the output for the fit using four degrees of freedom. How did you choose the knots ? Plot the resulting fit.\n",
    "library(splines)\n",
    "fit <- lm(nox ~ bs(dis, knots = c(4, 7, 11)), data = Boston)\n",
    "summary(fit)\n",
    "pred <- predict(fit, list(dis = dis.grid))\n",
    "plot(nox ~ dis, data = Boston, col = \"darkgrey\")\n",
    "lines(dis.grid, preds, col = \"red\", lwd = 2)"
   ]
  },
  {
   "cell_type": "markdown",
   "id": "d9a610fa",
   "metadata": {},
   "source": [
    "# Excercise 10 chapter 7"
   ]
  },
  {
   "cell_type": "code",
   "execution_count": null,
   "id": "68358589",
   "metadata": {},
   "outputs": [],
   "source": []
  }
 ],
 "metadata": {
  "kernelspec": {
   "display_name": "R",
   "language": "R",
   "name": "ir"
  },
  "language_info": {
   "codemirror_mode": "r",
   "file_extension": ".r",
   "mimetype": "text/x-r-source",
   "name": "R",
   "pygments_lexer": "r",
   "version": "3.6.1"
  }
 },
 "nbformat": 4,
 "nbformat_minor": 5
}
